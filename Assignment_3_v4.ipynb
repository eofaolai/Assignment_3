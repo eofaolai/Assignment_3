{
 "cells": [
  {
   "cell_type": "code",
   "execution_count": 15,
   "metadata": {},
   "outputs": [],
   "source": [
    "import pandas as pd\n",
    "\n",
    "### dataframe1 intake and clean\n",
    "\n",
    "with open('output.json', 'r') as f:\n",
    "    df1 = f.readlines()\n",
    "#print(df1)\n",
    "\n",
    "df1 = str(df1)\n",
    "df1 = df1.replace('\", \"purpose\": \"', ';')\n",
    "df1 = df1.replace('\"}, {\"name\": \"', ';')\n",
    "#counter = df1.count(\"'\")\n",
    "#print(str(counter))\n",
    "df1 = df1.replace(\"'\", \"\")\n",
    "df1 = df1.replace('[[{\"name\": \"', '')\n",
    "df1 = df1.replace('\"}]]', ';')\n",
    "#print(df1)\n",
    "\n",
    "\n",
    "### dataframe2 intake and clean\n",
    "\n",
    "with open('myfile.txt', 'r') as f:\n",
    "    df2 = f.readlines()\n",
    "\n",
    "    #mystr = '\\n'.join([line.strip() for line in lines])\n",
    "#my_string = my_string.replace(r\"\\n\", \"\\t\")\n",
    "df2 = str(df2)\n",
    "df2 = df2.replace(r\"\\n\", \" \")\n",
    "#print(df2)\n",
    "\n",
    "df2 = str(df2)\n",
    "#df2 = df2.replace(\"\\n',\", \";\")\n",
    "df2 = df2.replace(\"['Name: \", \"\")\n",
    "df2 = df2.replace(\" ', 'Name: \", \";\")\n",
    "df2 = df2.replace(\" ', 'Purpose: \", \";\")\n",
    "df2 = df2.replace(\"']\", \";\")\n",
    "\n",
    "\n",
    "### dataframe3 intake and clean\n",
    "\n",
    "with open('Webscrp_company.txt', 'r') as f:\n",
    "    df3 = f.readlines()\n",
    "\n",
    "df3 = str(df3)\n",
    "df3 = df3.replace('\":', ';')\n",
    "df3 = df3.replace('\",',';')\n",
    "df3 = df3.replace('\"','')\n",
    "df3 = df3.replace(\"['{\",\"\")\n",
    "df3 = df3.replace(\"}']\",\";\")\n",
    "#print(df3)\n",
    "#counter = df3.count(\";\")\n",
    "#print(str(counter))\n",
    "\n",
    "\n",
    "### dataframe4 intake and clean\n",
    "\n",
    "with open('result1.txt', 'r') as f:\n",
    "    df4 = f.readlines()\n",
    "    #mystr = '\\n'.join([line.strip() for line in lines])\n",
    "#my_string = my_string.replace(r\"\\n\", \"\\t\")\n",
    "df4 = str(df4)\n",
    "df4 = df4.replace(r\"\\n\", \" \")\n",
    "#print(df4)\n",
    "\n",
    "df4 = df4.replace(\"['Name: \",\"\")\n",
    "df4 = df4.replace(\" ', 'Purpose:\",\";\")\n",
    "df4 = df4.replace(\" ', 'Name:\",\";\")\n",
    "df4 = df4.replace(\"']\",\";\")\n",
    "#print(df4)\n",
    "\n",
    "\n",
    "\n",
    "### references: \n",
    "### https://stackoverflow.com/questions/54588657/converting-multi-line-string-to-single-line-string-in-python\n",
    "### https://textblob.readthedocs.io/en/dev/\n",
    "### https://pypi.org/project/textblob/"
   ]
  },
  {
   "cell_type": "code",
   "execution_count": 2,
   "metadata": {},
   "outputs": [
    {
     "name": "stdout",
     "output_type": "stream",
     "text": [
      "['[{\"name\": \"Marks Group\", \"purpose\": \"Re-engineered explicit budgetary management for incubate strategic vortals\"}, {\"name\": \"Fields-Contreras\", \"purpose\": \"Polarized user-facing pricing structure for optimize synergistic solutions\"}, {\"name\": \"Erickson-Brown\", \"purpose\": \"Operative system-worthy pricing structure for monetize sexy supply-chains\"}, {\"name\": \"Thomas Inc\", \"purpose\": \"Customer-focused regional time-frame for empower plug-and-play e-business\"}, {\"name\": \"Quinn LLC\", \"purpose\": \"Adaptive regional throughput for drive compelling relationships\"}, {\"name\": \"Guerrero and Sons\", \"purpose\": \"Customer-focused zero tolerance task-force for benchmark extensible paradigms\"}, {\"name\": \"Smith Ltd\", \"purpose\": \"Decentralized hybrid ability for facilitate bricks-and-clicks technologies\"}, {\"name\": \"Adams-Beard\", \"purpose\": \"Adaptive 4thgeneration hardware for seize synergistic synergies\"}, {\"name\": \"Walters PLC\", \"purpose\": \"Multi-layered fresh-thinking service-desk for seize dynamic e-business\"}, {\"name\": \"Olson-Rose\", \"purpose\": \"Triple-buffered composite initiative for cultivate killer interfaces\"}, {\"name\": \"Mora and Sons\", \"purpose\": \"Reduced impactful capability for monetize proactive e-tailers\"}, {\"name\": \"Robertson Ltd\", \"purpose\": \"Upgradable systemic adapter for re-contextualize viral synergies\"}, {\"name\": \"Harrison, Strong and Hansen\", \"purpose\": \"Stand-alone explicit middleware for implement compelling functionalities\"}, {\"name\": \"Galvan, Juarez and Howell\", \"purpose\": \"Managed optimizing utilization for grow strategic web services\"}, {\"name\": \"Carroll, Williams and Myers\", \"purpose\": \"Upgradable empowering paradigm for expedite one-to-one info-mediaries\"}, {\"name\": \"Perkins-Torres\", \"purpose\": \"Assimilated zero-defect protocol for synthesize turn-key interfaces\"}, {\"name\": \"Roberts Ltd\", \"purpose\": \"Fully-configurable object-oriented framework for cultivate value-added relationships\"}, {\"name\": \"Wheeler, Moore and Richardson\", \"purpose\": \"Reverse-engineered high-level utilization for exploit cutting-edge action-items\"}, {\"name\": \"Nelson Inc\", \"purpose\": \"Configurable actuating matrices for engage out-of-the-box applications\"}, {\"name\": \"Goodwin-Beck\", \"purpose\": \"Persevering bi-directional core for cultivate web-enabled portals\"}, {\"name\": \"Rivera Inc\", \"purpose\": \"Sharable secondary secured line for mesh integrated models\"}, {\"name\": \"Kelly-Horn\", \"purpose\": \"Pre-emptive motivating portal for architect innovative e-business\"}, {\"name\": \"Lane, Price and Stevens\", \"purpose\": \"Open-architected 6thgeneration budgetary management for harness virtual ROI\"}, {\"name\": \"Brewer Ltd\", \"purpose\": \"Managed user-facing intranet for benchmark real-time methodologies\"}, {\"name\": \"Herring PLC\", \"purpose\": \"De-engineered local emulation for iterate killer vortals\"}, {\"name\": \"Casey, Reed and Spencer\", \"purpose\": \"Operative full-range support for orchestrate revolutionary applications\"}, {\"name\": \"Morris, Knox and Arnold\", \"purpose\": \"Secured fresh-thinking approach for streamline wireless schemas\"}, {\"name\": \"Ross Ltd\", \"purpose\": \"Open-source reciprocal task-force for facilitate cross-media schemas\"}, {\"name\": \"Snyder-Mcconnell\", \"purpose\": \"Business-focused responsive instruction set for whiteboard distributed solutions\"}, {\"name\": \"Pittman-Alvarez\", \"purpose\": \"Profound upward-trending definition for innovate cutting-edge metrics\"}, {\"name\": \"Harvey-Kelley\", \"purpose\": \"Managed bi-directional interface for productize virtual relationships\"}, {\"name\": \"Taylor-Small\", \"purpose\": \"Total global portal for iterate open-source action-items\"}, {\"name\": \"Mann, Thomas and Schaefer\", \"purpose\": \"Enterprise-wide zero administration pricing structure for empower compelling e-markets\"}, {\"name\": \"Giles-Harris\", \"purpose\": \"Monitored grid-enabled interface for innovate intuitive action-items\"}, {\"name\": \"Saunders Inc\", \"purpose\": \"Robust bottom-line attitude for strategize B2B content\"}, {\"name\": \"Baker, Beltran and Franco\", \"purpose\": \"Re-engineered didactic framework for deliver global networks\"}, {\"name\": \"Monroe-Hawkins\", \"purpose\": \"Polarized object-oriented intranet for re-contextualize innovative supply-chains\"}, {\"name\": \"Goodman PLC\", \"purpose\": \"Upgradable non-volatile adapter for generate real-time e-tailers\"}, {\"name\": \"Howell, Ross and Lee\", \"purpose\": \"Grass-roots 24hour capacity for revolutionize extensible paradigms\"}, {\"name\": \"Smith, Murphy and Payne\", \"purpose\": \"Programmable web-enabled intranet for seize enterprise ROI\"}, {\"name\": \"Michael and Sons\", \"purpose\": \"Multi-layered optimal parallelism for engage revolutionary architectures\"}, {\"name\": \"Mason, Harris and Roberts\", \"purpose\": \"Distributed demand-driven product for brand compelling content\"}, {\"name\": \"Martin, Vega and Brown\", \"purpose\": \"Right-sized context-sensitive protocol for transform extensible metrics\"}, {\"name\": \"Grant-Baker\", \"purpose\": \"Focused grid-enabled help-desk for incentivize global models\"}, {\"name\": \"White-Hines\", \"purpose\": \"Persevering bandwidth-monitored matrix for disintermediate cross-media models\"}, {\"name\": \"Wallace LLC\", \"purpose\": \"Cross-group executive collaboration for re-contextualize real-time relationships\"}, {\"name\": \"Parsons-Allen\", \"purpose\": \"Self-enabling content-based capacity for grow clicks-and-mortar mindshare\"}, {\"name\": \"Brooks, Johnson and Johnson\", \"purpose\": \"Multi-channeled modular throughput for expedite end-to-end e-markets\"}, {\"name\": \"Greene Group\", \"purpose\": \"Horizontal non-volatile portal for empower clicks-and-mortar metrics\"}, {\"name\": \"Watson, Clark and Wilson\", \"purpose\": \"Reduced logistical Internet solution for visualize ubiquitous methodologies\"}]']\n"
     ]
    }
   ],
   "source": [
    "with open('output.json', 'r') as f:\n",
    "    df1 = f.readlines()\n",
    "\n",
    "print(df1)"
   ]
  },
  {
   "cell_type": "code",
   "execution_count": 3,
   "metadata": {},
   "outputs": [],
   "source": [
    "df1 = str(df1)\n",
    "df1 = df1.replace('\", \"purpose\": \"', ';')\n",
    "df1 = df1.replace('\"}, {\"name\": \"', ';')\n",
    "#counter = df1.count(\"'\")\n",
    "#print(str(counter))\n",
    "df1 = df1.replace(\"'\", \"\")\n",
    "df1 = df1.replace('[[{\"name\": \"', '')\n",
    "df1 = df1.replace('\"}]]', ';')\n",
    "#print(df1)"
   ]
  },
  {
   "cell_type": "code",
   "execution_count": 4,
   "metadata": {},
   "outputs": [
    {
     "name": "stdout",
     "output_type": "stream",
     "text": [
      "['Name: Day-Smith ', 'Purpose: Business-focused contextually-based data-warehouse for whiteboard viral synergies ', 'Name: Marshall-Lloyd ', 'Purpose: Multi-channeled even-keeled ability for embrace frictionless mindshare ', 'Name: Blair, Johnson and Anderson ', 'Purpose: Fully-configurable needs-based throughput for integrate holistic models ', 'Name: Berg, Lewis and Lopez ', 'Purpose: Stand-alone 24/7 throughput for synthesize rich deliverables ', 'Name: Martinez-Summers ', 'Purpose: Phased modular emulation for repurpose user-centric interfaces ', 'Name: Cruz PLC ', 'Purpose: Realigned scalable superstructure for redefine ubiquitous niches ', 'Name: Harris-Morrison ', 'Purpose: Upgradable multimedia process improvement for visualize intuitive functionalities ', 'Name: Cochran, Turner and Hardy ', 'Purpose: Profit-focused tertiary secured line for benchmark integrated technologies ', 'Name: Riley, Sharp and Carey ', 'Purpose: Synergistic next generation circuit for architect next-generation web services ', 'Name: Hernandez-Sloan ', 'Purpose: Adaptive impactful definition for whiteboard world-class mindshare ', 'Name: Lozano, Campos and Carr ', 'Purpose: Reduced asynchronous software for target value-added vortals ', 'Name: Barnes Group ', 'Purpose: Mandatory disintermediate definition for unleash cross-platform eyeballs ', 'Name: Morrison, Leon and Miller ', 'Purpose: Reactive impactful access for scale bricks-and-clicks bandwidth ', 'Name: Ibarra Ltd ', 'Purpose: Networked uniform collaboration for redefine e-business info-mediaries ', 'Name: Wang Ltd ', 'Purpose: Cross-group tangible toolset for extend distributed schemas ', 'Name: Burton, Williams and Lewis ', 'Purpose: Face-to-face client-driven flexibility for deploy holistic users ', 'Name: Anderson-Parker ', 'Purpose: Intuitive homogeneous ability for redefine bricks-and-clicks portals ', 'Name: Daniels-Luna ', 'Purpose: Proactive multi-tasking database for e-enable e-business networks ', 'Name: Vega-Mack ', 'Purpose: Operative heuristic function for incubate wireless users ', 'Name: Reynolds-Jackson ', 'Purpose: De-engineered homogeneous installation for empower seamless communities ', 'Name: Stanley, Gomez and James ', 'Purpose: Networked explicit knowledgebase for expedite collaborative functionalities ', 'Name: Nguyen, Scott and Rojas ', 'Purpose: User-centric 3rdgeneration matrix for re-intermediate value-added applications ', 'Name: Tapia, Jackson and Owen ', 'Purpose: Enterprise-wide exuding Graphical User Interface for exploit B2C e-business ', 'Name: Edwards, Leblanc and Robinson ', 'Purpose: Organic coherent hierarchy for drive out-of-the-box initiatives ', 'Name: Guzman-Martinez ', 'Purpose: Quality-focused intangible system engine for target virtual e-markets ', 'Name: Stone Inc ', 'Purpose: Balanced analyzing product for harness robust interfaces ', 'Name: Johnson, Chavez and Sloan ', 'Purpose: Synergistic methodical middleware for expedite wireless models ', 'Name: Carter-Sullivan ', 'Purpose: Centralized analyzing budgetary management for cultivate compelling interfaces ', 'Name: Hunt Group ', 'Purpose: Integrated foreground model for e-enable rich systems ', 'Name: Johnson and Sons ', 'Purpose: Inverse explicit encoding for orchestrate strategic solutions ', 'Name: Daniels PLC ', 'Purpose: Diverse executive methodology for synthesize web-enabled markets ', 'Name: Gonzalez PLC ', 'Purpose: Quality-focused discrete attitude for integrate robust systems ', 'Name: Shannon Inc ', 'Purpose: Persevering impactful encoding for innovate cross-media portals ', 'Name: Johnson and Sons ', 'Purpose: Configurable user-facing portal for transition frictionless ROI ', 'Name: Cochran, Byrd and Hayes ', 'Purpose: Profound bandwidth-monitored access for expedite vertical e-commerce ', 'Name: Mcclain-Olson ', 'Purpose: Down-sized human-resource adapter for transition web-enabled markets ', 'Name: Johnson-Lee ', 'Purpose: Devolved methodical projection for harness visionary users ', 'Name: Mccormick-Taylor ', 'Purpose: Proactive intermediate capacity for strategize impactful technologies ', 'Name: Miller, Clark and Perez ', 'Purpose: Pre-emptive modular secured line for transform next-generation supply-chains ', 'Name: Mcclure-Fleming ', 'Purpose: Organic zero administration infrastructure for target virtual supply-chains ', 'Name: Perez, Trujillo and White ', 'Purpose: Team-oriented fault-tolerant collaboration for whiteboard wireless models ', 'Name: Davidson, Keller and Jackson ', 'Purpose: Organized homogeneous hierarchy for generate back-end action-items ', 'Name: Lucero-Schneider ', 'Purpose: Self-enabling foreground implementation for enhance compelling applications ', 'Name: Smith-Diaz ', 'Purpose: Secured clear-thinking product for transition holistic systems ', 'Name: Mccullough Inc ', 'Purpose: Progressive well-modulated circuit for exploit magnetic schemas ', 'Name: Manning-Hill ', 'Purpose: Re-engineered maximized neural-net for re-contextualize strategic e-business ', 'Name: Mccoy-Young ', 'Purpose: Open-source reciprocal toolset for whiteboard dynamic deliverables ', 'Name: Hines PLC ', 'Purpose: Pre-emptive multi-state definition for engineer dot-com ROI ', 'Name: Mayer-Bradford ', 'Purpose: Reduced value-added success for transition synergistic networks ', 'Name: Nelson-Fox ', 'Purpose: Open-source background flexibility for optimize 24/7 supply-chains']\n"
     ]
    }
   ],
   "source": [
    "with open('myfile.txt', 'r') as f:\n",
    "    df2 = f.readlines()\n",
    "\n",
    "    #mystr = '\\n'.join([line.strip() for line in lines])\n",
    "#my_string = my_string.replace(r\"\\n\", \"\\t\")\n",
    "df2 = str(df2)\n",
    "df2 = df2.replace(r\"\\n\", \" \")\n",
    "print(df2)"
   ]
  },
  {
   "cell_type": "code",
   "execution_count": 5,
   "metadata": {},
   "outputs": [
    {
     "name": "stdout",
     "output_type": "stream",
     "text": [
      "Day-Smith;Business-focused contextually-based data-warehouse for whiteboard viral synergies;Marshall-Lloyd;Multi-channeled even-keeled ability for embrace frictionless mindshare;Blair, Johnson and Anderson;Fully-configurable needs-based throughput for integrate holistic models;Berg, Lewis and Lopez;Stand-alone 24/7 throughput for synthesize rich deliverables;Martinez-Summers;Phased modular emulation for repurpose user-centric interfaces;Cruz PLC;Realigned scalable superstructure for redefine ubiquitous niches;Harris-Morrison;Upgradable multimedia process improvement for visualize intuitive functionalities;Cochran, Turner and Hardy;Profit-focused tertiary secured line for benchmark integrated technologies;Riley, Sharp and Carey;Synergistic next generation circuit for architect next-generation web services;Hernandez-Sloan;Adaptive impactful definition for whiteboard world-class mindshare;Lozano, Campos and Carr;Reduced asynchronous software for target value-added vortals;Barnes Group;Mandatory disintermediate definition for unleash cross-platform eyeballs;Morrison, Leon and Miller;Reactive impactful access for scale bricks-and-clicks bandwidth;Ibarra Ltd;Networked uniform collaboration for redefine e-business info-mediaries;Wang Ltd;Cross-group tangible toolset for extend distributed schemas;Burton, Williams and Lewis;Face-to-face client-driven flexibility for deploy holistic users;Anderson-Parker;Intuitive homogeneous ability for redefine bricks-and-clicks portals;Daniels-Luna;Proactive multi-tasking database for e-enable e-business networks;Vega-Mack;Operative heuristic function for incubate wireless users;Reynolds-Jackson;De-engineered homogeneous installation for empower seamless communities;Stanley, Gomez and James;Networked explicit knowledgebase for expedite collaborative functionalities;Nguyen, Scott and Rojas;User-centric 3rdgeneration matrix for re-intermediate value-added applications;Tapia, Jackson and Owen;Enterprise-wide exuding Graphical User Interface for exploit B2C e-business;Edwards, Leblanc and Robinson;Organic coherent hierarchy for drive out-of-the-box initiatives;Guzman-Martinez;Quality-focused intangible system engine for target virtual e-markets;Stone Inc;Balanced analyzing product for harness robust interfaces;Johnson, Chavez and Sloan;Synergistic methodical middleware for expedite wireless models;Carter-Sullivan;Centralized analyzing budgetary management for cultivate compelling interfaces;Hunt Group;Integrated foreground model for e-enable rich systems;Johnson and Sons;Inverse explicit encoding for orchestrate strategic solutions;Daniels PLC;Diverse executive methodology for synthesize web-enabled markets;Gonzalez PLC;Quality-focused discrete attitude for integrate robust systems;Shannon Inc;Persevering impactful encoding for innovate cross-media portals;Johnson and Sons;Configurable user-facing portal for transition frictionless ROI;Cochran, Byrd and Hayes;Profound bandwidth-monitored access for expedite vertical e-commerce;Mcclain-Olson;Down-sized human-resource adapter for transition web-enabled markets;Johnson-Lee;Devolved methodical projection for harness visionary users;Mccormick-Taylor;Proactive intermediate capacity for strategize impactful technologies;Miller, Clark and Perez;Pre-emptive modular secured line for transform next-generation supply-chains;Mcclure-Fleming;Organic zero administration infrastructure for target virtual supply-chains;Perez, Trujillo and White;Team-oriented fault-tolerant collaboration for whiteboard wireless models;Davidson, Keller and Jackson;Organized homogeneous hierarchy for generate back-end action-items;Lucero-Schneider;Self-enabling foreground implementation for enhance compelling applications;Smith-Diaz;Secured clear-thinking product for transition holistic systems;Mccullough Inc;Progressive well-modulated circuit for exploit magnetic schemas;Manning-Hill;Re-engineered maximized neural-net for re-contextualize strategic e-business;Mccoy-Young;Open-source reciprocal toolset for whiteboard dynamic deliverables;Hines PLC;Pre-emptive multi-state definition for engineer dot-com ROI;Mayer-Bradford;Reduced value-added success for transition synergistic networks;Nelson-Fox;Open-source background flexibility for optimize 24/7 supply-chains;\n"
     ]
    }
   ],
   "source": [
    "df2 = str(df2)\n",
    "#df2 = df2.replace(\"\\n',\", \";\")\n",
    "df2 = df2.replace(\"['Name: \", \"\")\n",
    "df2 = df2.replace(\" ', 'Name: \", \";\")\n",
    "df2 = df2.replace(\" ', 'Purpose: \", \";\")\n",
    "df2 = df2.replace(\"']\", \";\")\n",
    "\n",
    "\n",
    "print(df2)"
   ]
  },
  {
   "cell_type": "code",
   "execution_count": 6,
   "metadata": {},
   "outputs": [
    {
     "name": "stdout",
     "output_type": "stream",
     "text": [
      "['{\"Browning-Palmer\": \"Universal mission-critical leverage for benchmark end-to-end interfaces\", \"Solomon, Patel and Reid\": \"Enterprise-wide solution-oriented workforce for matrix innovative relationships\", \"Rogers, Howe and Mendez\": \"Cross-group zero-defect methodology for aggregate e-business interfaces\", \"Barrett Ltd\": \"Team-oriented 24hour emulation for deploy best-of-breed channels\", \"Russo, Petersen and Ibarra\": \"Exclusive optimizing budgetary management for architect out-of-the-box deliverables\", \"Collins Inc\": \"Seamless user-facing archive for unleash ubiquitous e-commerce\", \"Garrett LLC\": \"Team-oriented interactive solution for synthesize viral niches\", \"Barry-Sanders\": \"Fully-configurable 4thgeneration throughput for synthesize customized info-mediaries\", \"Austin-Daniel\": \"Ergonomic even-keeled circuit for grow sexy synergies\", \"Rojas Group\": \"Cross-platform optimal firmware for revolutionize best-of-breed experiences\", \"Garrett-Adams\": \"De-engineered multimedia installation for streamline bleeding-edge ROI\", \"Martinez-Gaines\": \"Optimized uniform model for iterate virtual infrastructures\", \"Jones-Anderson\": \"Ameliorated encompassing software for productize out-of-the-box communities\", \"Blackburn LLC\": \"Enterprise-wide 24hour infrastructure for matrix cross-platform bandwidth\", \"Barnett Inc\": \"Diverse zero-defect solution for morph out-of-the-box e-markets\", \"Reese Group\": \"Reverse-engineered multimedia synergy for matrix impactful portals\", \"Powell-Holland\": \"Diverse 3rdgeneration standardization for utilize holistic infrastructures\", \"Davidson, Hoover and Reese\": \"Ameliorated bi-directional framework for e-enable cross-media networks\", \"Howell Group\": \"Networked value-added migration for utilize end-to-end metrics\", \"Mitchell-Vasquez\": \"Phased logistical productivity for embrace virtual eyeballs\", \"Mcfarland Group\": \"Innovative client-server ability for e-enable visionary e-tailers\", \"Wilson Inc\": \"Total human-resource Graphical User Interface for scale integrated e-tailers\", \"Murphy-Pittman\": \"Up-sized real-time analyzer for leverage real-time portals\", \"Barker, Moore and Patton\": \"Mandatory 5thgeneration structure for synergize integrated experiences\", \"Castro, Pace and Jimenez\": \"Expanded didactic projection for benchmark global e-tailers\", \"Adams-Foley\": \"Reactive exuding conglomeration for enable sticky technologies\", \"Richmond, Jones and Chen\": \"Re-contextualized human-resource solution for generate interactive markets\", \"Tanner-Hamilton\": \"Business-focused value-added projection for reinvent efficient channels\", \"Murillo, Peterson and Mckinney\": \"Integrated global info-mediaries for strategize frictionless interfaces\", \"Huynh, Williams and Hernandez\": \"User-friendly grid-enabled capability for visualize web-enabled web services\", \"Martinez-Camacho\": \"Expanded tangible support for unleash collaborative solutions\", \"Bailey-Lopez\": \"Multi-lateral discrete pricing structure for maximize B2B portals\", \"Wright-Finley\": \"Intuitive fresh-thinking algorithm for generate user-centric e-tailers\", \"Rogers, Gaines and Harris\": \"Realigned multimedia infrastructure for benchmark end-to-end metrics\", \"Mendez-Waters\": \"Automated non-volatile initiative for brand extensible channels\", \"Williams, Miller and Anderson\": \"Total 4thgeneration adapter for benchmark end-to-end mindshare\", \"Lowe-Day\": \"Organized zero tolerance contingency for syndicate dot-com functionalities\", \"Larsen and Sons\": \"Distributed actuating instruction set for harness enterprise experiences\", \"Hall-Jones\": \"Object-based empowering algorithm for matrix end-to-end vortals\", \"Brooks, Soto and Woodward\": \"Assimilated local definition for drive seamless info-mediaries\", \"Thomas-Long\": \"Digitized national success for repurpose magnetic niches\", \"James PLC\": \"Distributed bandwidth-monitored interface for engineer e-business experiences\", \"Hudson LLC\": \"Right-sized executive software for syndicate next-generation e-services\", \"Jennings PLC\": \"Profit-focused multi-state database for architect B2C platforms\", \"Thomas-Pittman\": \"Polarized zero tolerance ability for syndicate open-source functionalities\", \"Woods-Gould\": \"Implemented client-server function for deploy web-enabled metrics\", \"Ramos, Phillips and Walters\": \"Operative multi-state infrastructure for enhance clicks-and-mortar solutions\", \"Murillo, Brewer and Kim\": \"Object-based multi-state Local Area Network for redefine B2C web-readiness\", \"Hughes Inc\": \"Digitized hybrid pricing structure for brand revolutionary synergies\", \"Gardner, Wilson and Lozano\": \"Progressive fault-tolerant knowledgebase for incentivize sexy initiatives\"}']\n"
     ]
    }
   ],
   "source": [
    "with open('Webscrp_company.txt', 'r') as f:\n",
    "    df3 = f.readlines()\n",
    "\n",
    "print(df3)"
   ]
  },
  {
   "cell_type": "code",
   "execution_count": 7,
   "metadata": {},
   "outputs": [
    {
     "name": "stdout",
     "output_type": "stream",
     "text": [
      "Browning-Palmer; Universal mission-critical leverage for benchmark end-to-end interfaces; Solomon, Patel and Reid; Enterprise-wide solution-oriented workforce for matrix innovative relationships; Rogers, Howe and Mendez; Cross-group zero-defect methodology for aggregate e-business interfaces; Barrett Ltd; Team-oriented 24hour emulation for deploy best-of-breed channels; Russo, Petersen and Ibarra; Exclusive optimizing budgetary management for architect out-of-the-box deliverables; Collins Inc; Seamless user-facing archive for unleash ubiquitous e-commerce; Garrett LLC; Team-oriented interactive solution for synthesize viral niches; Barry-Sanders; Fully-configurable 4thgeneration throughput for synthesize customized info-mediaries; Austin-Daniel; Ergonomic even-keeled circuit for grow sexy synergies; Rojas Group; Cross-platform optimal firmware for revolutionize best-of-breed experiences; Garrett-Adams; De-engineered multimedia installation for streamline bleeding-edge ROI; Martinez-Gaines; Optimized uniform model for iterate virtual infrastructures; Jones-Anderson; Ameliorated encompassing software for productize out-of-the-box communities; Blackburn LLC; Enterprise-wide 24hour infrastructure for matrix cross-platform bandwidth; Barnett Inc; Diverse zero-defect solution for morph out-of-the-box e-markets; Reese Group; Reverse-engineered multimedia synergy for matrix impactful portals; Powell-Holland; Diverse 3rdgeneration standardization for utilize holistic infrastructures; Davidson, Hoover and Reese; Ameliorated bi-directional framework for e-enable cross-media networks; Howell Group; Networked value-added migration for utilize end-to-end metrics; Mitchell-Vasquez; Phased logistical productivity for embrace virtual eyeballs; Mcfarland Group; Innovative client-server ability for e-enable visionary e-tailers; Wilson Inc; Total human-resource Graphical User Interface for scale integrated e-tailers; Murphy-Pittman; Up-sized real-time analyzer for leverage real-time portals; Barker, Moore and Patton; Mandatory 5thgeneration structure for synergize integrated experiences; Castro, Pace and Jimenez; Expanded didactic projection for benchmark global e-tailers; Adams-Foley; Reactive exuding conglomeration for enable sticky technologies; Richmond, Jones and Chen; Re-contextualized human-resource solution for generate interactive markets; Tanner-Hamilton; Business-focused value-added projection for reinvent efficient channels; Murillo, Peterson and Mckinney; Integrated global info-mediaries for strategize frictionless interfaces; Huynh, Williams and Hernandez; User-friendly grid-enabled capability for visualize web-enabled web services; Martinez-Camacho; Expanded tangible support for unleash collaborative solutions; Bailey-Lopez; Multi-lateral discrete pricing structure for maximize B2B portals; Wright-Finley; Intuitive fresh-thinking algorithm for generate user-centric e-tailers; Rogers, Gaines and Harris; Realigned multimedia infrastructure for benchmark end-to-end metrics; Mendez-Waters; Automated non-volatile initiative for brand extensible channels; Williams, Miller and Anderson; Total 4thgeneration adapter for benchmark end-to-end mindshare; Lowe-Day; Organized zero tolerance contingency for syndicate dot-com functionalities; Larsen and Sons; Distributed actuating instruction set for harness enterprise experiences; Hall-Jones; Object-based empowering algorithm for matrix end-to-end vortals; Brooks, Soto and Woodward; Assimilated local definition for drive seamless info-mediaries; Thomas-Long; Digitized national success for repurpose magnetic niches; James PLC; Distributed bandwidth-monitored interface for engineer e-business experiences; Hudson LLC; Right-sized executive software for syndicate next-generation e-services; Jennings PLC; Profit-focused multi-state database for architect B2C platforms; Thomas-Pittman; Polarized zero tolerance ability for syndicate open-source functionalities; Woods-Gould; Implemented client-server function for deploy web-enabled metrics; Ramos, Phillips and Walters; Operative multi-state infrastructure for enhance clicks-and-mortar solutions; Murillo, Brewer and Kim; Object-based multi-state Local Area Network for redefine B2C web-readiness; Hughes Inc; Digitized hybrid pricing structure for brand revolutionary synergies; Gardner, Wilson and Lozano; Progressive fault-tolerant knowledgebase for incentivize sexy initiatives; \n"
     ]
    }
   ],
   "source": [
    "df3 = str(df3)\n",
    "df3 = df3.replace('\":', ';')\n",
    "df3 = df3.replace('\",',';')\n",
    "df3 = df3.replace('\"','')\n",
    "df3 = df3.replace(\"['{\",\"\")\n",
    "df3 = df3.replace(\"}']\",\"; \")\n",
    "print(df3)\n",
    "\n",
    "#counter = df3.count(\";\")\n",
    "#print(str(counter))"
   ]
  },
  {
   "cell_type": "code",
   "execution_count": 8,
   "metadata": {},
   "outputs": [
    {
     "name": "stdout",
     "output_type": "stream",
     "text": [
      "100\n"
     ]
    }
   ],
   "source": [
    "counter = df3.count(\";\")\n",
    "print(str(counter))"
   ]
  },
  {
   "cell_type": "code",
   "execution_count": 9,
   "metadata": {},
   "outputs": [
    {
     "name": "stdout",
     "output_type": "stream",
     "text": [
      "['Name: Evans Ltd ', 'Purpose: Team-oriented upward-trending focus group for redefine synergistic users ', 'Name: Martin, Hines and Clark ', 'Purpose: Customizable user-facing solution for harness scalable e-services ', 'Name: Lopez, Camacho and Bonilla ', 'Purpose: Object-based asynchronous ability for innovate B2B mindshare ', 'Name: Thompson Group ', 'Purpose: Synchronized responsive secured line for scale real-time vortals ', 'Name: Hughes and Sons ', 'Purpose: Customizable local productivity for optimize open-source e-services ', 'Name: Patterson-Stewart ', 'Purpose: Automated systematic hierarchy for iterate end-to-end models ', 'Name: Moore, Diaz and Stevens ', 'Purpose: Devolved empowering complexity for transition virtual metrics ', 'Name: Medina-Dorsey ', 'Purpose: Seamless interactive concept for aggregate killer e-markets ', 'Name: Ferrell-Caldwell ', 'Purpose: Horizontal mobile utilization for facilitate back-end models ', 'Name: Hubbard LLC ', 'Purpose: Organic real-time customer loyalty for leverage cutting-edge e-markets ', 'Name: Martinez-Glass ', 'Purpose: Inverse encompassing project for reinvent transparent applications ', 'Name: Phillips Group ', 'Purpose: Innovative scalable artificial intelligence for orchestrate virtual models ', 'Name: Newman Ltd ', 'Purpose: Adaptive value-added framework for scale cross-platform bandwidth ', 'Name: Stevens-King ', 'Purpose: Reduced didactic interface for grow next-generation e-business ', 'Name: Garrett Inc ', 'Purpose: Multi-channeled modular Graphical User Interface for embrace killer convergence ', 'Name: Johnson-Gallagher ', 'Purpose: Synchronized grid-enabled project for empower visionary eyeballs ', 'Name: Pearson-Bass ', 'Purpose: Programmable asymmetric open system for deploy interactive users ', 'Name: Prince-Johnson ', 'Purpose: Realigned static support for mesh e-business solutions ', 'Name: Olson-Zimmerman ', 'Purpose: Programmable modular customer loyalty for benchmark enterprise e-business ', 'Name: Mccoy, Miller and Schmidt ', 'Purpose: Upgradable hybrid knowledgebase for unleash frictionless web services ', 'Name: Roberts Ltd ', 'Purpose: Synergistic methodical superstructure for syndicate B2B e-business ', 'Name: Mendoza Ltd ', 'Purpose: Advanced 3rdgeneration benchmark for drive real-time interfaces ', 'Name: Williams-Henderson ', 'Purpose: Profit-focused fresh-thinking open system for drive open-source content ', 'Name: Melendez, Tyler and Hammond ', 'Purpose: Cross-group scalable customer loyalty for incentivize web-enabled action-items ', 'Name: Lynn-Alvarado ', 'Purpose: Front-line high-level toolset for leverage seamless portals ', 'Name: Smith, Soto and Simpson ', 'Purpose: Diverse intermediate Graphic Interface for synergize bricks-and-clicks communities ', 'Name: Roberts Group ', 'Purpose: Organized zero administration concept for re-contextualize back-end e-tailers ', 'Name: Bentley Inc ', 'Purpose: Synergistic asymmetric standardization for scale enterprise schemas ', 'Name: Ellis Group ', 'Purpose: Stand-alone grid-enabled encoding for expedite one-to-one networks ', 'Name: Cherry-Bentley ', 'Purpose: Universal high-level utilization for embrace frictionless mindshare ', 'Name: Kim LLC ', 'Purpose: Profit-focused dynamic knowledgebase for enhance cross-platform systems ', 'Name: Clark, Baker and White ', 'Purpose: User-friendly analyzing product for disintermediate end-to-end architectures ', 'Name: Sanders Inc ', 'Purpose: Stand-alone bandwidth-monitored budgetary management for enhance intuitive e-services ', 'Name: Tran Ltd ', 'Purpose: Public-key bottom-line firmware for evolve proactive methodologies ', 'Name: Miller Ltd ', 'Purpose: Realigned bi-directional process improvement for extend integrated e-markets ', 'Name: Diaz Inc ', 'Purpose: Switchable optimizing policy for reinvent wireless metrics ', 'Name: Winters, Daniels and Mathews ', 'Purpose: Optional homogeneous portal for harness 24/7 web-readiness ', 'Name: Taylor, Daniels and Taylor ', 'Purpose: Up-sized global conglomeration for harness strategic deliverables ', 'Name: Warner-Morris ', 'Purpose: Multi-channeled bandwidth-monitored portal for evolve out-of-the-box content ', 'Name: Hurst PLC ', 'Purpose: Grass-roots intermediate benchmark for unleash out-of-the-box relationships ', 'Name: Stein Group ', 'Purpose: Programmable clear-thinking strategy for re-intermediate collaborative e-markets ', 'Name: Collins, Mahoney and Taylor ', 'Purpose: Assimilated interactive synergy for evolve bricks-and-clicks architectures ', 'Name: Rodriguez Ltd ', 'Purpose: Self-enabling encompassing orchestration for facilitate e-business functionalities ', 'Name: Williams PLC ', 'Purpose: Synchronized background service-desk for syndicate real-time e-markets ', 'Name: Reynolds and Sons ', 'Purpose: Up-sized multimedia adapter for integrate rich experiences ', 'Name: Hobbs Inc ', 'Purpose: Horizontal value-added protocol for engage mission-critical technologies ', 'Name: Hernandez-Garcia ', 'Purpose: Multi-lateral dynamic focus group for facilitate mission-critical functionalities ', 'Name: Rivera-Browning ', 'Purpose: Focused asynchronous encryption for e-enable plug-and-play web services ', 'Name: Oconnell-Watson ', 'Purpose: Proactive regional open system for streamline distributed users ', 'Name: Gilmore and Sons ', 'Purpose: Function-based global secured line for implement robust interfaces']\n"
     ]
    }
   ],
   "source": [
    "with open('result1.txt', 'r') as f:\n",
    "    df4 = f.readlines()\n",
    "    #mystr = '\\n'.join([line.strip() for line in lines])\n",
    "#my_string = my_string.replace(r\"\\n\", \"\\t\")\n",
    "df4 = str(df4)\n",
    "df4 = df4.replace(r\"\\n\", \" \")\n",
    "print(df4)"
   ]
  },
  {
   "cell_type": "code",
   "execution_count": 10,
   "metadata": {},
   "outputs": [
    {
     "name": "stdout",
     "output_type": "stream",
     "text": [
      "Evans Ltd; Team-oriented upward-trending focus group for redefine synergistic users; Martin, Hines and Clark; Customizable user-facing solution for harness scalable e-services; Lopez, Camacho and Bonilla; Object-based asynchronous ability for innovate B2B mindshare; Thompson Group; Synchronized responsive secured line for scale real-time vortals; Hughes and Sons; Customizable local productivity for optimize open-source e-services; Patterson-Stewart; Automated systematic hierarchy for iterate end-to-end models; Moore, Diaz and Stevens; Devolved empowering complexity for transition virtual metrics; Medina-Dorsey; Seamless interactive concept for aggregate killer e-markets; Ferrell-Caldwell; Horizontal mobile utilization for facilitate back-end models; Hubbard LLC; Organic real-time customer loyalty for leverage cutting-edge e-markets; Martinez-Glass; Inverse encompassing project for reinvent transparent applications; Phillips Group; Innovative scalable artificial intelligence for orchestrate virtual models; Newman Ltd; Adaptive value-added framework for scale cross-platform bandwidth; Stevens-King; Reduced didactic interface for grow next-generation e-business; Garrett Inc; Multi-channeled modular Graphical User Interface for embrace killer convergence; Johnson-Gallagher; Synchronized grid-enabled project for empower visionary eyeballs; Pearson-Bass; Programmable asymmetric open system for deploy interactive users; Prince-Johnson; Realigned static support for mesh e-business solutions; Olson-Zimmerman; Programmable modular customer loyalty for benchmark enterprise e-business; Mccoy, Miller and Schmidt; Upgradable hybrid knowledgebase for unleash frictionless web services; Roberts Ltd; Synergistic methodical superstructure for syndicate B2B e-business; Mendoza Ltd; Advanced 3rdgeneration benchmark for drive real-time interfaces; Williams-Henderson; Profit-focused fresh-thinking open system for drive open-source content; Melendez, Tyler and Hammond; Cross-group scalable customer loyalty for incentivize web-enabled action-items; Lynn-Alvarado; Front-line high-level toolset for leverage seamless portals; Smith, Soto and Simpson; Diverse intermediate Graphic Interface for synergize bricks-and-clicks communities; Roberts Group; Organized zero administration concept for re-contextualize back-end e-tailers; Bentley Inc; Synergistic asymmetric standardization for scale enterprise schemas; Ellis Group; Stand-alone grid-enabled encoding for expedite one-to-one networks; Cherry-Bentley; Universal high-level utilization for embrace frictionless mindshare; Kim LLC; Profit-focused dynamic knowledgebase for enhance cross-platform systems; Clark, Baker and White; User-friendly analyzing product for disintermediate end-to-end architectures; Sanders Inc; Stand-alone bandwidth-monitored budgetary management for enhance intuitive e-services; Tran Ltd; Public-key bottom-line firmware for evolve proactive methodologies; Miller Ltd; Realigned bi-directional process improvement for extend integrated e-markets; Diaz Inc; Switchable optimizing policy for reinvent wireless metrics; Winters, Daniels and Mathews; Optional homogeneous portal for harness 24/7 web-readiness; Taylor, Daniels and Taylor; Up-sized global conglomeration for harness strategic deliverables; Warner-Morris; Multi-channeled bandwidth-monitored portal for evolve out-of-the-box content; Hurst PLC; Grass-roots intermediate benchmark for unleash out-of-the-box relationships; Stein Group; Programmable clear-thinking strategy for re-intermediate collaborative e-markets; Collins, Mahoney and Taylor; Assimilated interactive synergy for evolve bricks-and-clicks architectures; Rodriguez Ltd; Self-enabling encompassing orchestration for facilitate e-business functionalities; Williams PLC; Synchronized background service-desk for syndicate real-time e-markets; Reynolds and Sons; Up-sized multimedia adapter for integrate rich experiences; Hobbs Inc; Horizontal value-added protocol for engage mission-critical technologies; Hernandez-Garcia; Multi-lateral dynamic focus group for facilitate mission-critical functionalities; Rivera-Browning; Focused asynchronous encryption for e-enable plug-and-play web services; Oconnell-Watson; Proactive regional open system for streamline distributed users; Gilmore and Sons; Function-based global secured line for implement robust interfaces; \n"
     ]
    }
   ],
   "source": [
    "df4 = df4.replace(\"['Name: \",\"\")\n",
    "df4 = df4.replace(\" ', 'Purpose:\",\";\")\n",
    "df4 = df4.replace(\" ', 'Name:\",\";\")\n",
    "df4 = df4.replace(\"']\",\"; \")\n",
    "print(df4)"
   ]
  },
  {
   "cell_type": "code",
   "execution_count": 11,
   "metadata": {},
   "outputs": [
    {
     "name": "stdout",
     "output_type": "stream",
     "text": [
      "['Name,Purpose\\n', 'Johnson and Sons, Public-key empowering methodology for incubate world-class interfaces\\n', 'Prince PLC, Total mission-critical standardization for transition next-generation interfaces\\n', 'Thomas and Sons, Grass-roots next generation Graphical User Interface for utilize front-end action-items\\n', 'Morgan-Moreno, Total tangible architecture for reinvent revolutionary communities\\n', 'Carlson-Carpenter, Configurable explicit architecture for optimize seamless info-mediaries\\n', 'Gates Inc, Realigned static model for reinvent frictionless channels\\n', 'Henderson Inc, Stand-alone 6thgeneration encryption for engage cutting-edge e-tailers\\n', '\"Jones, Jones and Webb\", Programmable national firmware for facilitate web-enabled networks\\n', 'Hoffman Ltd, Self-enabling encompassing hardware for empower magnetic platforms\\n', 'Bennett Inc, Diverse systemic extranet for iterate end-to-end channels\\n', 'Montgomery PLC, Extended radical secured line for engage world-class technologies\\n', '\"Russell, Cherry and Reynolds\", Versatile motivating encryption for productize one-to-one interfaces\\n', '\"Wolfe, Martinez and Alvarado\", Vision-oriented didactic help-desk for unleash web-enabled users\\n', 'Trevino-Wells, Persistent even-keeled matrix for envisioneer B2B e-services\\n', '\"Hicks, Graham and Craig\", Cloned 6thgeneration attitude for envisioneer dynamic synergies\\n', '\"Mahoney, Cooper and Hernandez\", Organized zero-defect conglomeration for harness impactful web services\\n', 'Dean Ltd, Intuitive local synergy for drive integrated technologies\\n', '\"Reese, Lynn and Smith\", Synergistic 6thgeneration project for maximize real-time methodologies\\n', 'Harper-Rubio, Team-oriented heuristic complexity for embrace enterprise interfaces\\n', 'Moreno LLC, Reverse-engineered web-enabled parallelism for deliver value-added niches\\n', 'Moore-Evans, Devolved responsive instruction set for iterate value-added mindshare\\n', 'French-Daniel, Exclusive motivating monitoring for syndicate strategic paradigms\\n', 'Hicks-Hayes, Phased dedicated paradigm for benchmark front-end e-tailers\\n', 'Johnson-Washington, Organized encompassing definition for syndicate web-enabled niches\\n', 'Lee and Sons, Stand-alone optimal strategy for engineer ubiquitous supply-chains\\n', '\"Green, Holland and Bennett\", Enhanced clear-thinking extranet for visualize killer e-markets\\n', 'Wright PLC, Profit-focused web-enabled customer loyalty for extend collaborative paradigms\\n', 'Garcia and Sons, Profit-focused encompassing infrastructure for grow seamless e-tailers\\n', 'Shaw-Simmons, User-friendly discrete toolset for implement innovative networks\\n', '\"Buchanan, Thompson and Frye\", Sharable 6thgeneration attitude for synthesize back-end initiatives\\n', 'Thompson-Roy, Public-key human-resource policy for reinvent extensible platforms\\n', '\"Leach, Schwartz and Adams\", Monitored eco-centric Local Area Network for streamline cross-media experiences\\n', 'Gonzalez-Strickland, Realigned zero tolerance intranet for iterate collaborative applications\\n', '\"Norman, Lindsey and Schmidt\", Expanded responsive emulation for optimize 24/7 eyeballs\\n', 'Gonzalez and Sons, Robust 3rdgeneration secured line for incubate global solutions\\n', 'Mcdonald and Sons, Self-enabling logistical toolset for embrace user-centric schemas\\n', 'Castillo Group, Configurable grid-enabled toolset for visualize viral systems\\n', 'Bradley LLC, Integrated actuating open architecture for expedite B2B supply-chains\\n', 'Miller-Smith, Multi-channeled human-resource conglomeration for integrate user-centric eyeballs\\n', 'Winters Group, Switchable modular utilization for morph front-end platforms\\n', '\"Mitchell, Olson and Alexander\", Sharable local analyzer for whiteboard cutting-edge eyeballs\\n', '\"Turner, Jackson and Santos\", Inverse demand-driven firmware for deliver e-business relationships\\n', 'Morrison and Sons, Mandatory disintermediate neural-net for envisioneer visionary markets\\n', '\"Robertson, Powell and Wise\", Phased 6thgeneration hierarchy for engage dynamic convergence\\n', 'Briggs and Sons, Multi-layered web-enabled paradigm for syndicate cutting-edge applications\\n', 'Williams-Phillips, Ergonomic local synergy for brand user-centric markets\\n', 'Garcia LLC, Re-contextualized zero-defect matrices for expedite customized deliverables\\n', 'Jacobson Ltd, Vision-oriented optimizing monitoring for synthesize next-generation relationships\\n', '\"Harris, Young and Burns\", Inverse stable interface for facilitate leading-edge e-business\\n', 'Chambers Ltd, Organic high-level neural-net for repurpose revolutionary eyeballs\\n']\n"
     ]
    }
   ],
   "source": [
    "### dataframe5 intake and clean\n",
    "\n",
    "with open('companys.csv', 'r') as f:\n",
    "    df5 = f.readlines()\n",
    "\n",
    "    #mystr = '\\n'.join([line.strip() for line in lines])\n",
    "#my_string = my_string.replace(r\"\\n\", \"\\t\")\n",
    "#df5 = str(df5)\n",
    "#df5 = df5.replace(r\"\\n\", \"\")\n",
    "print(df5)"
   ]
  },
  {
   "cell_type": "code",
   "execution_count": 12,
   "metadata": {},
   "outputs": [],
   "source": [
    "df5 = str(df5)\n",
    "#df5 = df5.replace(\"\\n',\", \";\")\n",
    "df5 = df5.replace(\"['Name,Purpose', '\", \"\")\n",
    "df5 = df5.replace(\" ', 'Name: \", \";\")\n",
    "df5 = df5.replace(\" ', 'Purpose: \", \";\")\n",
    "df5 = df5.replace(\"']\", \";\")"
   ]
  },
  {
   "cell_type": "code",
   "execution_count": 13,
   "metadata": {},
   "outputs": [
    {
     "name": "stdout",
     "output_type": "stream",
     "text": [
      "[',Name,Purpose\\n', '0,\"Montoya, Camacho and Harrison\",Compatible bottom-line structure for grow vertical e-services\\n', '1,Walker Group,Self-enabling asynchronous encryption for embrace revolutionary functionalities\\n', '2,Maldonado-Curtis,Switchable background customer loyalty for whiteboard impactful eyeballs\\n', '3,\"Smith, Richardson and Wright\",Devolved homogeneous projection for embrace integrated e-commerce\\n', '4,Cruz-Powell,De-engineered 5thgeneration database for morph proactive platforms\\n', '5,Massey-Atkinson,Ameliorated systematic database for expedite value-added e-commerce\\n', '6,Yu-Mckenzie,Ergonomic asynchronous interface for facilitate leading-edge partnerships\\n', '7,Knight Inc,Fundamental global help-desk for integrate web-enabled infrastructures\\n', '8,Carroll Group,Horizontal national capability for extend bricks-and-clicks platforms\\n', '9,Blackburn-Adams,Profound coherent customer loyalty for unleash 24/365 bandwidth\\n', '10,\"Kramer, Barber and Carpenter\",Sharable intermediate process improvement for synergize seamless metrics\\n', '11,Brooks-Reynolds,Innovative full-range structure for incubate extensible markets\\n', '12,\"Schwartz, Neal and Garcia\",Advanced impactful Local Area Network for enhance one-to-one functionalities\\n', '13,Hill PLC,Self-enabling global firmware for synergize web-enabled eyeballs\\n', '14,\"Mcclain, Mccarthy and Lozano\",Upgradable clear-thinking data-warehouse for drive killer convergence\\n', '15,Powell Ltd,Enterprise-wide intangible contingency for extend frictionless infrastructures\\n', '16,\"Huffman, Norton and Cantu\",Cloned client-driven system engine for envisioneer killer mindshare\\n', '17,Schmidt-Brown,Open-architected grid-enabled projection for deploy next-generation content\\n', '18,Hanna Group,Team-oriented grid-enabled workforce for enhance magnetic applications\\n', '19,Walter PLC,Fundamental explicit extranet for enable integrated action-items\\n', '20,Smith-Farmer,Up-sized object-oriented utilization for exploit frictionless initiatives\\n', '21,\"Le, Chan and Coleman\",Ergonomic asynchronous alliance for cultivate sexy portals\\n', '22,Levy-Garrison,Proactive multi-tasking approach for mesh next-generation vortals\\n', '23,Conway-Massey,Profound homogeneous parallelism for redefine extensible users\\n', '24,Bates-Johnson,Distributed didactic portal for mesh integrated synergies\\n', '25,\"Vance, Michael and Stafford\",Triple-buffered transitional encoding for grow impactful initiatives\\n', '26,Ball LLC,Exclusive intangible Graphic Interface for target back-end methodologies\\n', '27,Landry-Schmidt,Inverse content-based process improvement for envisioneer plug-and-play models\\n', '28,Farley Group,Ergonomic dedicated function for scale customized action-items\\n', '29,Hicks-Lewis,Persistent zero tolerance synergy for productize distributed models\\n', '30,King-Washington,Reverse-engineered mobile middleware for expedite cross-media vortals\\n', '31,Castillo PLC,Vision-oriented well-modulated capacity for leverage world-class web services\\n', '32,Le-Brock,Team-oriented clear-thinking productivity for grow value-added e-services\\n', '33,Smith-Curtis,Cloned contextually-based extranet for reinvent innovative web services\\n', '34,Orr-Pierce,Polarized dedicated encoding for strategize plug-and-play methodologies\\n', '35,Decker-Grant,Customizable high-level encryption for engineer open-source partnerships\\n', '36,Coleman-Lopez,Managed composite structure for implement out-of-the-box models\\n', '37,\"Harrison, Garcia and Patterson\",Cross-platform global methodology for visualize ubiquitous convergence\\n', '38,Schwartz PLC,Polarized high-level software for morph strategic deliverables\\n', '39,Barajas LLC,Exclusive human-resource success for envisioneer robust technologies\\n', '40,Pope and Sons,Horizontal asymmetric Local Area Network for seize sticky bandwidth\\n', '41,\"Anderson, Smith and Cox\",Multi-tiered even-keeled matrix for synthesize back-end platforms\\n', '42,Morgan Inc,Self-enabling tangible migration for repurpose bleeding-edge portals\\n', '43,Larson-Steele,Enhanced directional pricing structure for empower sticky interfaces\\n', '44,\"Miller, Jensen and Nash\",User-centric bifurcated analyzer for synthesize interactive infrastructures\\n', '45,Rodriguez PLC,Integrated object-oriented moratorium for aggregate vertical paradigms\\n', '46,Cardenas Group,Phased stable monitoring for facilitate robust architectures\\n', '47,Rivera-Flores,Proactive client-server interface for expedite out-of-the-box ROI\\n', '48,Myers and Sons,Organized upward-trending methodology for facilitate dynamic metrics\\n', '49,Patrick Ltd,Extended didactic workforce for matrix cross-media solutions\\n']\n"
     ]
    }
   ],
   "source": [
    "### dataframe6 intake and clean\n",
    "\n",
    "with open('napu (1).csv', 'r') as f:\n",
    "    df6 = f.readlines()\n",
    "\n",
    "#df6 = str(df6)\n",
    "#df6 = df6.replace(r\"\\n\", \"\")\n",
    "print(df6)"
   ]
  },
  {
   "cell_type": "code",
   "execution_count": 14,
   "metadata": {},
   "outputs": [
    {
     "name": "stdout",
     "output_type": "stream",
     "text": [
      "['name,purpose\\n', 'Bruce Group,Organized 3rdgeneration migration for deploy leading-edge portals\\n', 'Dunn LLC,Implemented mission-critical function for extend front-end niches\\n', 'Harper-Boone,Open-source fault-tolerant knowledge user for embrace clicks-and-mortar e-services\\n', '\"Cabrera, Levine and Underwood\",Proactive analyzing Internet solution for engage web-enabled e-business\\n', '\"Anderson, Stevens and Jensen\",Pre-emptive high-level extranet for enhance value-added platforms\\n', 'Roberts Ltd,Extended mission-critical intranet for matrix cross-media paradigms\\n', 'Huerta and Sons,Intuitive discrete contingency for repurpose synergistic schemas\\n', '\"Jackson, Holden and Gonzalez\",Intuitive eco-centric productivity for iterate dot-com action-items\\n', 'Roberts and Sons,Sharable 4thgeneration open system for transform cross-platform e-tailers\\n', 'Simpson and Sons,Ameliorated encompassing website for expedite proactive platforms\\n', 'Davidson Ltd,Object-based non-volatile protocol for deliver clicks-and-mortar e-services\\n', '\"Vaughan, Calderon and Holland\",Distributed maximized portal for cultivate cross-media convergence\\n', 'Williamson-Johnson,Versatile upward-trending task-force for disintermediate clicks-and-mortar e-markets\\n', 'Washington-Mccormick,Intuitive demand-driven project for deploy killer models\\n', '\"Moore, Mcintyre and Campbell\",Intuitive 24hour algorithm for drive out-of-the-box networks\\n', 'Davis-Meyers,Public-key client-driven orchestration for engineer synergistic interfaces\\n', 'Parker-Martinez,Profound background data-warehouse for harness value-added deliverables\\n', 'Smith PLC,Open-source grid-enabled contingency for target enterprise info-mediaries\\n', '\"Olson, Murray and Johnson\",Synergistic 3rdgeneration extranet for repurpose 24/365 communities\\n', 'Sullivan and Sons,User-centric mobile architecture for grow next-generation systems\\n', 'Lopez-Russo,Future-proofed multimedia approach for scale revolutionary models\\n', '\"Flores, Moore and Powell\",Distributed radical structure for transition cross-media applications\\n', '\"Gordon, Smith and Evans\",User-friendly heuristic customer loyalty for implement bleeding-edge e-services\\n', 'Phillips Group,Networked incremental hub for architect compelling communities\\n', 'Lambert-Cook,Triple-buffered even-keeled ability for synthesize compelling vortals\\n', 'Goodwin PLC,Enhanced methodical info-mediaries for re-intermediate strategic web-readiness\\n', 'Spence PLC,Monitored client-server system engine for mesh 24/7 ROI\\n', 'Doyle-Foley,Persistent maximized portal for morph 24/7 communities\\n', 'Edwards Ltd,Reduced methodical hierarchy for target bricks-and-clicks e-markets\\n', 'Brown-Ross,De-engineered systemic open system for engage distributed info-mediaries\\n', 'Bauer Ltd,Cross-platform uniform archive for aggregate plug-and-play bandwidth\\n', 'Johnson Ltd,Customer-focused logistical complexity for synergize customized portals\\n', 'Weeks-Glass,Synchronized 4thgeneration collaboration for envisioneer distributed metrics\\n', 'Powell-Hamilton,Enterprise-wide motivating circuit for reinvent proactive markets\\n', 'Ray Group,Advanced mission-critical help-desk for reinvent one-to-one technologies\\n', '\"White, Lewis and Chambers\",Synergized web-enabled utilization for syndicate transparent partnerships\\n', 'Hill-Martin,Proactive needs-based initiative for cultivate sexy paradigms\\n', 'Juarez and Sons,Enterprise-wide non-volatile emulation for maximize robust vortals\\n', 'Davis Group,Open-architected eco-centric knowledgebase for integrate virtual communities\\n', 'Savage-Jones,Customer-focused even-keeled encryption for engage cross-platform e-markets\\n', '\"Hill, Robbins and Cruz\",Virtual contextually-based info-mediaries for iterate 24/365 info-mediaries\\n', 'Smith-Russo,Quality-focused didactic portal for evolve robust channels\\n', '\"Burke, Prince and Sanders\",Synergized national protocol for architect next-generation convergence\\n', '\"Logan, Thomas and Calhoun\",Mandatory tangible intranet for productize global experiences\\n', 'Coleman-Espinoza,Visionary human-resource capability for revolutionize turn-key interfaces\\n', 'Patel Ltd,Profit-focused executive moderator for redefine magnetic deliverables\\n', '\"Reynolds, Bell and Russell\",Centralized clear-thinking portal for syndicate best-of-breed vortals\\n', 'Brown Group,Object-based maximized groupware for deliver bricks-and-clicks niches\\n', 'Wiggins-Wright,Intuitive incremental implementation for synergize dynamic functionalities\\n', '\"Jenkins, Perez and Carrillo\",Automated empowering knowledge user for integrate frictionless communities\\n']\n"
     ]
    }
   ],
   "source": [
    "### dataframe7 intake and clean\n",
    "\n",
    "with open('result.csv', 'r') as f:\n",
    "    df7 = f.readlines()\n",
    "\n",
    "#df7 = str(df7)\n",
    "#df7 = df7.replace(r\"\\n\", \"\")\n",
    "print(df7)"
   ]
  },
  {
   "cell_type": "code",
   "execution_count": 16,
   "metadata": {},
   "outputs": [
    {
     "name": "stdout",
     "output_type": "stream",
     "text": [
      "Browning-Palmer;Universal mission-critical leverage for benchmark end-to-end interfaces;Solomon, Patel and Reid;Enterprise-wide solution-oriented workforce for matrix innovative relationships;Rogers, Howe and Mendez;Cross-group zero-defect methodology for aggregate e-business interfaces;Barrett Ltd;Team-oriented 24hour emulation for deploy best-of-breed channels;Russo, Petersen and Ibarra;Exclusive optimizing budgetary management for architect out-of-the-box deliverables;Collins Inc;Seamless user-facing archive for unleash ubiquitous e-commerce;Garrett LLC;Team-oriented interactive solution for synthesize viral niches;Barry-Sanders;Fully-configurable 4thgeneration throughput for synthesize customized info-mediaries;Austin-Daniel;Ergonomic even-keeled circuit for grow sexy synergies;Rojas Group;Cross-platform optimal firmware for revolutionize best-of-breed experiences;Garrett-Adams;De-engineered multimedia installation for streamline bleeding-edge ROI;Martinez-Gaines;Optimized uniform model for iterate virtual infrastructures;Jones-Anderson;Ameliorated encompassing software for productize out-of-the-box communities;Blackburn LLC;Enterprise-wide 24hour infrastructure for matrix cross-platform bandwidth;Barnett Inc;Diverse zero-defect solution for morph out-of-the-box e-markets;Reese Group;Reverse-engineered multimedia synergy for matrix impactful portals;Powell-Holland;Diverse 3rdgeneration standardization for utilize holistic infrastructures;Davidson, Hoover and Reese;Ameliorated bi-directional framework for e-enable cross-media networks;Howell Group;Networked value-added migration for utilize end-to-end metrics;Mitchell-Vasquez;Phased logistical productivity for embrace virtual eyeballs;Mcfarland Group;Innovative client-server ability for e-enable visionary e-tailers;Wilson Inc;Total human-resource Graphical User Interface for scale integrated e-tailers;Murphy-Pittman;Up-sized real-time analyzer for leverage real-time portals;Barker, Moore and Patton;Mandatory 5thgeneration structure for synergize integrated experiences;Castro, Pace and Jimenez;Expanded didactic projection for benchmark global e-tailers;Adams-Foley;Reactive exuding conglomeration for enable sticky technologies;Richmond, Jones and Chen;Re-contextualized human-resource solution for generate interactive markets;Tanner-Hamilton;Business-focused value-added projection for reinvent efficient channels;Murillo, Peterson and Mckinney;Integrated global info-mediaries for strategize frictionless interfaces;Huynh, Williams and Hernandez;User-friendly grid-enabled capability for visualize web-enabled web services;Martinez-Camacho;Expanded tangible support for unleash collaborative solutions;Bailey-Lopez;Multi-lateral discrete pricing structure for maximize B2B portals;Wright-Finley;Intuitive fresh-thinking algorithm for generate user-centric e-tailers;Rogers, Gaines and Harris;Realigned multimedia infrastructure for benchmark end-to-end metrics;Mendez-Waters;Automated non-volatile initiative for brand extensible channels;Williams, Miller and Anderson;Total 4thgeneration adapter for benchmark end-to-end mindshare;Lowe-Day;Organized zero tolerance contingency for syndicate dot-com functionalities;Larsen and Sons;Distributed actuating instruction set for harness enterprise experiences;Hall-Jones;Object-based empowering algorithm for matrix end-to-end vortals;Brooks, Soto and Woodward;Assimilated local definition for drive seamless info-mediaries;Thomas-Long;Digitized national success for repurpose magnetic niches;James PLC;Distributed bandwidth-monitored interface for engineer e-business experiences;Hudson LLC;Right-sized executive software for syndicate next-generation e-services;Jennings PLC;Profit-focused multi-state database for architect B2C platforms;Thomas-Pittman;Polarized zero tolerance ability for syndicate open-source functionalities;Woods-Gould;Implemented client-server function for deploy web-enabled metrics;Ramos, Phillips and Walters;Operative multi-state infrastructure for enhance clicks-and-mortar solutions;Murillo, Brewer and Kim;Object-based multi-state Local Area Network for redefine B2C web-readiness;Hughes Inc;Digitized hybrid pricing structure for brand revolutionary synergies;Gardner, Wilson and Lozano;Progressive fault-tolerant knowledgebase for incentivize sexy initiatives;Evans Ltd;Team-oriented upward-trending focus group for redefine synergistic users;Martin, Hines and Clark;Customizable user-facing solution for harness scalable e-services;Lopez, Camacho and Bonilla;Object-based asynchronous ability for innovate B2B mindshare;Thompson Group;Synchronized responsive secured line for scale real-time vortals;Hughes and Sons;Customizable local productivity for optimize open-source e-services;Patterson-Stewart;Automated systematic hierarchy for iterate end-to-end models;Moore, Diaz and Stevens;Devolved empowering complexity for transition virtual metrics;Medina-Dorsey;Seamless interactive concept for aggregate killer e-markets;Ferrell-Caldwell;Horizontal mobile utilization for facilitate back-end models;Hubbard LLC;Organic real-time customer loyalty for leverage cutting-edge e-markets;Martinez-Glass;Inverse encompassing project for reinvent transparent applications;Phillips Group;Innovative scalable artificial intelligence for orchestrate virtual models;Newman Ltd;Adaptive value-added framework for scale cross-platform bandwidth;Stevens-King;Reduced didactic interface for grow next-generation e-business;Garrett Inc;Multi-channeled modular Graphical User Interface for embrace killer convergence;Johnson-Gallagher;Synchronized grid-enabled project for empower visionary eyeballs;Pearson-Bass;Programmable asymmetric open system for deploy interactive users;Prince-Johnson;Realigned static support for mesh e-business solutions;Olson-Zimmerman;Programmable modular customer loyalty for benchmark enterprise e-business;Mccoy, Miller and Schmidt;Upgradable hybrid knowledgebase for unleash frictionless web services;Roberts Ltd;Synergistic methodical superstructure for syndicate B2B e-business;Mendoza Ltd;Advanced 3rdgeneration benchmark for drive real-time interfaces;Williams-Henderson;Profit-focused fresh-thinking open system for drive open-source content;Melendez, Tyler and Hammond;Cross-group scalable customer loyalty for incentivize web-enabled action-items;Lynn-Alvarado;Front-line high-level toolset for leverage seamless portals;Smith, Soto and Simpson;Diverse intermediate Graphic Interface for synergize bricks-and-clicks communities;Roberts Group;Organized zero administration concept for re-contextualize back-end e-tailers;Bentley Inc;Synergistic asymmetric standardization for scale enterprise schemas;Ellis Group;Stand-alone grid-enabled encoding for expedite one-to-one networks;Cherry-Bentley;Universal high-level utilization for embrace frictionless mindshare;Kim LLC;Profit-focused dynamic knowledgebase for enhance cross-platform systems;Clark, Baker and White;User-friendly analyzing product for disintermediate end-to-end architectures;Sanders Inc;Stand-alone bandwidth-monitored budgetary management for enhance intuitive e-services;Tran Ltd;Public-key bottom-line firmware for evolve proactive methodologies;Miller Ltd;Realigned bi-directional process improvement for extend integrated e-markets;Diaz Inc;Switchable optimizing policy for reinvent wireless metrics;Winters, Daniels and Mathews;Optional homogeneous portal for harness 24/7 web-readiness;Taylor, Daniels and Taylor;Up-sized global conglomeration for harness strategic deliverables;Warner-Morris;Multi-channeled bandwidth-monitored portal for evolve out-of-the-box content;Hurst PLC;Grass-roots intermediate benchmark for unleash out-of-the-box relationships;Stein Group;Programmable clear-thinking strategy for re-intermediate collaborative e-markets;Collins, Mahoney and Taylor;Assimilated interactive synergy for evolve bricks-and-clicks architectures;Rodriguez Ltd;Self-enabling encompassing orchestration for facilitate e-business functionalities;Williams PLC;Synchronized background service-desk for syndicate real-time e-markets;Reynolds and Sons;Up-sized multimedia adapter for integrate rich experiences;Hobbs Inc;Horizontal value-added protocol for engage mission-critical technologies;Hernandez-Garcia;Multi-lateral dynamic focus group for facilitate mission-critical functionalities;Rivera-Browning;Focused asynchronous encryption for e-enable plug-and-play web services;Oconnell-Watson;Proactive regional open system for streamline distributed users;Gilmore and Sons;Function-based global secured line for implement robust interfaces;\n"
     ]
    }
   ],
   "source": [
    "## Combine dataframes\n",
    "\n",
    "df_all = df3+df4\n",
    "df_all = df_all.replace(\"; \",\";\")\n",
    "print(df_all)"
   ]
  },
  {
   "cell_type": "code",
   "execution_count": 26,
   "metadata": {},
   "outputs": [
    {
     "name": "stdout",
     "output_type": "stream",
     "text": [
      "['Browning-Palmer', 'Universal mission-critical leverage for benchmark end-to-end interfaces', 'Solomon, Patel and Reid', 'Enterprise-wide solution-oriented workforce for matrix innovative relationships', 'Rogers, Howe and Mendez', 'Cross-group zero-defect methodology for aggregate e-business interfaces', 'Barrett Ltd', 'Team-oriented 24hour emulation for deploy best-of-breed channels', 'Russo, Petersen and Ibarra', 'Exclusive optimizing budgetary management for architect out-of-the-box deliverables', 'Collins Inc', 'Seamless user-facing archive for unleash ubiquitous e-commerce', 'Garrett LLC', 'Team-oriented interactive solution for synthesize viral niches', 'Barry-Sanders', 'Fully-configurable 4thgeneration throughput for synthesize customized info-mediaries', 'Austin-Daniel', 'Ergonomic even-keeled circuit for grow sexy synergies', 'Rojas Group', 'Cross-platform optimal firmware for revolutionize best-of-breed experiences', 'Garrett-Adams', 'De-engineered multimedia installation for streamline bleeding-edge ROI', 'Martinez-Gaines', 'Optimized uniform model for iterate virtual infrastructures', 'Jones-Anderson', 'Ameliorated encompassing software for productize out-of-the-box communities', 'Blackburn LLC', 'Enterprise-wide 24hour infrastructure for matrix cross-platform bandwidth', 'Barnett Inc', 'Diverse zero-defect solution for morph out-of-the-box e-markets', 'Reese Group', 'Reverse-engineered multimedia synergy for matrix impactful portals', 'Powell-Holland', 'Diverse 3rdgeneration standardization for utilize holistic infrastructures', 'Davidson, Hoover and Reese', 'Ameliorated bi-directional framework for e-enable cross-media networks', 'Howell Group', 'Networked value-added migration for utilize end-to-end metrics', 'Mitchell-Vasquez', 'Phased logistical productivity for embrace virtual eyeballs', 'Mcfarland Group', 'Innovative client-server ability for e-enable visionary e-tailers', 'Wilson Inc', 'Total human-resource Graphical User Interface for scale integrated e-tailers', 'Murphy-Pittman', 'Up-sized real-time analyzer for leverage real-time portals', 'Barker, Moore and Patton', 'Mandatory 5thgeneration structure for synergize integrated experiences', 'Castro, Pace and Jimenez', 'Expanded didactic projection for benchmark global e-tailers', 'Adams-Foley', 'Reactive exuding conglomeration for enable sticky technologies', 'Richmond, Jones and Chen', 'Re-contextualized human-resource solution for generate interactive markets', 'Tanner-Hamilton', 'Business-focused value-added projection for reinvent efficient channels', 'Murillo, Peterson and Mckinney', 'Integrated global info-mediaries for strategize frictionless interfaces', 'Huynh, Williams and Hernandez', 'User-friendly grid-enabled capability for visualize web-enabled web services', 'Martinez-Camacho', 'Expanded tangible support for unleash collaborative solutions', 'Bailey-Lopez', 'Multi-lateral discrete pricing structure for maximize B2B portals', 'Wright-Finley', 'Intuitive fresh-thinking algorithm for generate user-centric e-tailers', 'Rogers, Gaines and Harris', 'Realigned multimedia infrastructure for benchmark end-to-end metrics', 'Mendez-Waters', 'Automated non-volatile initiative for brand extensible channels', 'Williams, Miller and Anderson', 'Total 4thgeneration adapter for benchmark end-to-end mindshare', 'Lowe-Day', 'Organized zero tolerance contingency for syndicate dot-com functionalities', 'Larsen and Sons', 'Distributed actuating instruction set for harness enterprise experiences', 'Hall-Jones', 'Object-based empowering algorithm for matrix end-to-end vortals', 'Brooks, Soto and Woodward', 'Assimilated local definition for drive seamless info-mediaries', 'Thomas-Long', 'Digitized national success for repurpose magnetic niches', 'James PLC', 'Distributed bandwidth-monitored interface for engineer e-business experiences', 'Hudson LLC', 'Right-sized executive software for syndicate next-generation e-services', 'Jennings PLC', 'Profit-focused multi-state database for architect B2C platforms', 'Thomas-Pittman', 'Polarized zero tolerance ability for syndicate open-source functionalities', 'Woods-Gould', 'Implemented client-server function for deploy web-enabled metrics', 'Ramos, Phillips and Walters', 'Operative multi-state infrastructure for enhance clicks-and-mortar solutions', 'Murillo, Brewer and Kim', 'Object-based multi-state Local Area Network for redefine B2C web-readiness', 'Hughes Inc', 'Digitized hybrid pricing structure for brand revolutionary synergies', 'Gardner, Wilson and Lozano', 'Progressive fault-tolerant knowledgebase for incentivize sexy initiatives', 'Evans Ltd', 'Team-oriented upward-trending focus group for redefine synergistic users', 'Martin, Hines and Clark', 'Customizable user-facing solution for harness scalable e-services', 'Lopez, Camacho and Bonilla', 'Object-based asynchronous ability for innovate B2B mindshare', 'Thompson Group', 'Synchronized responsive secured line for scale real-time vortals', 'Hughes and Sons', 'Customizable local productivity for optimize open-source e-services', 'Patterson-Stewart', 'Automated systematic hierarchy for iterate end-to-end models', 'Moore, Diaz and Stevens', 'Devolved empowering complexity for transition virtual metrics', 'Medina-Dorsey', 'Seamless interactive concept for aggregate killer e-markets', 'Ferrell-Caldwell', 'Horizontal mobile utilization for facilitate back-end models', 'Hubbard LLC', 'Organic real-time customer loyalty for leverage cutting-edge e-markets', 'Martinez-Glass', 'Inverse encompassing project for reinvent transparent applications', 'Phillips Group', 'Innovative scalable artificial intelligence for orchestrate virtual models', 'Newman Ltd', 'Adaptive value-added framework for scale cross-platform bandwidth', 'Stevens-King', 'Reduced didactic interface for grow next-generation e-business', 'Garrett Inc', 'Multi-channeled modular Graphical User Interface for embrace killer convergence', 'Johnson-Gallagher', 'Synchronized grid-enabled project for empower visionary eyeballs', 'Pearson-Bass', 'Programmable asymmetric open system for deploy interactive users', 'Prince-Johnson', 'Realigned static support for mesh e-business solutions', 'Olson-Zimmerman', 'Programmable modular customer loyalty for benchmark enterprise e-business', 'Mccoy, Miller and Schmidt', 'Upgradable hybrid knowledgebase for unleash frictionless web services', 'Roberts Ltd', 'Synergistic methodical superstructure for syndicate B2B e-business', 'Mendoza Ltd', 'Advanced 3rdgeneration benchmark for drive real-time interfaces', 'Williams-Henderson', 'Profit-focused fresh-thinking open system for drive open-source content', 'Melendez, Tyler and Hammond', 'Cross-group scalable customer loyalty for incentivize web-enabled action-items', 'Lynn-Alvarado', 'Front-line high-level toolset for leverage seamless portals', 'Smith, Soto and Simpson', 'Diverse intermediate Graphic Interface for synergize bricks-and-clicks communities', 'Roberts Group', 'Organized zero administration concept for re-contextualize back-end e-tailers', 'Bentley Inc', 'Synergistic asymmetric standardization for scale enterprise schemas', 'Ellis Group', 'Stand-alone grid-enabled encoding for expedite one-to-one networks', 'Cherry-Bentley', 'Universal high-level utilization for embrace frictionless mindshare', 'Kim LLC', 'Profit-focused dynamic knowledgebase for enhance cross-platform systems', 'Clark, Baker and White', 'User-friendly analyzing product for disintermediate end-to-end architectures', 'Sanders Inc', 'Stand-alone bandwidth-monitored budgetary management for enhance intuitive e-services', 'Tran Ltd', 'Public-key bottom-line firmware for evolve proactive methodologies', 'Miller Ltd', 'Realigned bi-directional process improvement for extend integrated e-markets', 'Diaz Inc', 'Switchable optimizing policy for reinvent wireless metrics', 'Winters, Daniels and Mathews', 'Optional homogeneous portal for harness 24/7 web-readiness', 'Taylor, Daniels and Taylor', 'Up-sized global conglomeration for harness strategic deliverables', 'Warner-Morris', 'Multi-channeled bandwidth-monitored portal for evolve out-of-the-box content', 'Hurst PLC', 'Grass-roots intermediate benchmark for unleash out-of-the-box relationships', 'Stein Group', 'Programmable clear-thinking strategy for re-intermediate collaborative e-markets', 'Collins, Mahoney and Taylor', 'Assimilated interactive synergy for evolve bricks-and-clicks architectures', 'Rodriguez Ltd', 'Self-enabling encompassing orchestration for facilitate e-business functionalities', 'Williams PLC', 'Synchronized background service-desk for syndicate real-time e-markets', 'Reynolds and Sons', 'Up-sized multimedia adapter for integrate rich experiences', 'Hobbs Inc', 'Horizontal value-added protocol for engage mission-critical technologies', 'Hernandez-Garcia', 'Multi-lateral dynamic focus group for facilitate mission-critical functionalities', 'Rivera-Browning', 'Focused asynchronous encryption for e-enable plug-and-play web services', 'Oconnell-Watson', 'Proactive regional open system for streamline distributed users', 'Gilmore and Sons', 'Function-based global secured line for implement robust interfaces;']\n"
     ]
    }
   ],
   "source": [
    "Combo1 = df_all.split(';',199)\n",
    "#Combo1 = Combo1.replace(\"' \",\"'\")\n",
    "#Combo1 = [sub.replace(\" ' \",\" '\") for sub in Combo1]\n",
    "print(Combo1)"
   ]
  },
  {
   "cell_type": "code",
   "execution_count": 27,
   "metadata": {},
   "outputs": [
    {
     "data": {
      "text/plain": [
       "['Browning-Palmer',\n",
       " 'Solomon, Patel and Reid',\n",
       " 'Rogers, Howe and Mendez',\n",
       " 'Barrett Ltd',\n",
       " 'Russo, Petersen and Ibarra',\n",
       " 'Collins Inc',\n",
       " 'Garrett LLC',\n",
       " 'Barry-Sanders',\n",
       " 'Austin-Daniel',\n",
       " 'Rojas Group',\n",
       " 'Garrett-Adams',\n",
       " 'Martinez-Gaines',\n",
       " 'Jones-Anderson',\n",
       " 'Blackburn LLC',\n",
       " 'Barnett Inc',\n",
       " 'Reese Group',\n",
       " 'Powell-Holland',\n",
       " 'Davidson, Hoover and Reese',\n",
       " 'Howell Group',\n",
       " 'Mitchell-Vasquez',\n",
       " 'Mcfarland Group',\n",
       " 'Wilson Inc',\n",
       " 'Murphy-Pittman',\n",
       " 'Barker, Moore and Patton',\n",
       " 'Castro, Pace and Jimenez',\n",
       " 'Adams-Foley',\n",
       " 'Richmond, Jones and Chen',\n",
       " 'Tanner-Hamilton',\n",
       " 'Murillo, Peterson and Mckinney',\n",
       " 'Huynh, Williams and Hernandez',\n",
       " 'Martinez-Camacho',\n",
       " 'Bailey-Lopez',\n",
       " 'Wright-Finley',\n",
       " 'Rogers, Gaines and Harris',\n",
       " 'Mendez-Waters',\n",
       " 'Williams, Miller and Anderson',\n",
       " 'Lowe-Day',\n",
       " 'Larsen and Sons',\n",
       " 'Hall-Jones',\n",
       " 'Brooks, Soto and Woodward',\n",
       " 'Thomas-Long',\n",
       " 'James PLC',\n",
       " 'Hudson LLC',\n",
       " 'Jennings PLC',\n",
       " 'Thomas-Pittman',\n",
       " 'Woods-Gould',\n",
       " 'Ramos, Phillips and Walters',\n",
       " 'Murillo, Brewer and Kim',\n",
       " 'Hughes Inc',\n",
       " 'Gardner, Wilson and Lozano',\n",
       " 'Evans Ltd',\n",
       " 'Martin, Hines and Clark',\n",
       " 'Lopez, Camacho and Bonilla',\n",
       " 'Thompson Group',\n",
       " 'Hughes and Sons',\n",
       " 'Patterson-Stewart',\n",
       " 'Moore, Diaz and Stevens',\n",
       " 'Medina-Dorsey',\n",
       " 'Ferrell-Caldwell',\n",
       " 'Hubbard LLC',\n",
       " 'Martinez-Glass',\n",
       " 'Phillips Group',\n",
       " 'Newman Ltd',\n",
       " 'Stevens-King',\n",
       " 'Garrett Inc',\n",
       " 'Johnson-Gallagher',\n",
       " 'Pearson-Bass',\n",
       " 'Prince-Johnson',\n",
       " 'Olson-Zimmerman',\n",
       " 'Mccoy, Miller and Schmidt',\n",
       " 'Roberts Ltd',\n",
       " 'Mendoza Ltd',\n",
       " 'Williams-Henderson',\n",
       " 'Melendez, Tyler and Hammond',\n",
       " 'Lynn-Alvarado',\n",
       " 'Smith, Soto and Simpson',\n",
       " 'Roberts Group',\n",
       " 'Bentley Inc',\n",
       " 'Ellis Group',\n",
       " 'Cherry-Bentley',\n",
       " 'Kim LLC',\n",
       " 'Clark, Baker and White',\n",
       " 'Sanders Inc',\n",
       " 'Tran Ltd',\n",
       " 'Miller Ltd',\n",
       " 'Diaz Inc',\n",
       " 'Winters, Daniels and Mathews',\n",
       " 'Taylor, Daniels and Taylor',\n",
       " 'Warner-Morris',\n",
       " 'Hurst PLC',\n",
       " 'Stein Group',\n",
       " 'Collins, Mahoney and Taylor',\n",
       " 'Rodriguez Ltd',\n",
       " 'Williams PLC',\n",
       " 'Reynolds and Sons',\n",
       " 'Hobbs Inc',\n",
       " 'Hernandez-Garcia',\n",
       " 'Rivera-Browning',\n",
       " 'Oconnell-Watson',\n",
       " 'Gilmore and Sons']"
      ]
     },
     "execution_count": 27,
     "metadata": {},
     "output_type": "execute_result"
    }
   ],
   "source": [
    "Name_cols = Combo1[0::2]\n",
    "Name_cols"
   ]
  },
  {
   "cell_type": "code",
   "execution_count": 28,
   "metadata": {},
   "outputs": [
    {
     "name": "stdout",
     "output_type": "stream",
     "text": [
      "100\n"
     ]
    }
   ],
   "source": [
    "print(len(Name_cols))"
   ]
  },
  {
   "cell_type": "code",
   "execution_count": 29,
   "metadata": {},
   "outputs": [
    {
     "name": "stdout",
     "output_type": "stream",
     "text": [
      "['Universal mission-critical leverage for benchmark end-to-end interfaces', 'Enterprise-wide solution-oriented workforce for matrix innovative relationships', 'Cross-group zero-defect methodology for aggregate e-business interfaces', 'Team-oriented 24hour emulation for deploy best-of-breed channels', 'Exclusive optimizing budgetary management for architect out-of-the-box deliverables', 'Seamless user-facing archive for unleash ubiquitous e-commerce', 'Team-oriented interactive solution for synthesize viral niches', 'Fully-configurable 4thgeneration throughput for synthesize customized info-mediaries', 'Ergonomic even-keeled circuit for grow sexy synergies', 'Cross-platform optimal firmware for revolutionize best-of-breed experiences', 'De-engineered multimedia installation for streamline bleeding-edge ROI', 'Optimized uniform model for iterate virtual infrastructures', 'Ameliorated encompassing software for productize out-of-the-box communities', 'Enterprise-wide 24hour infrastructure for matrix cross-platform bandwidth', 'Diverse zero-defect solution for morph out-of-the-box e-markets', 'Reverse-engineered multimedia synergy for matrix impactful portals', 'Diverse 3rdgeneration standardization for utilize holistic infrastructures', 'Ameliorated bi-directional framework for e-enable cross-media networks', 'Networked value-added migration for utilize end-to-end metrics', 'Phased logistical productivity for embrace virtual eyeballs', 'Innovative client-server ability for e-enable visionary e-tailers', 'Total human-resource Graphical User Interface for scale integrated e-tailers', 'Up-sized real-time analyzer for leverage real-time portals', 'Mandatory 5thgeneration structure for synergize integrated experiences', 'Expanded didactic projection for benchmark global e-tailers', 'Reactive exuding conglomeration for enable sticky technologies', 'Re-contextualized human-resource solution for generate interactive markets', 'Business-focused value-added projection for reinvent efficient channels', 'Integrated global info-mediaries for strategize frictionless interfaces', 'User-friendly grid-enabled capability for visualize web-enabled web services', 'Expanded tangible support for unleash collaborative solutions', 'Multi-lateral discrete pricing structure for maximize B2B portals', 'Intuitive fresh-thinking algorithm for generate user-centric e-tailers', 'Realigned multimedia infrastructure for benchmark end-to-end metrics', 'Automated non-volatile initiative for brand extensible channels', 'Total 4thgeneration adapter for benchmark end-to-end mindshare', 'Organized zero tolerance contingency for syndicate dot-com functionalities', 'Distributed actuating instruction set for harness enterprise experiences', 'Object-based empowering algorithm for matrix end-to-end vortals', 'Assimilated local definition for drive seamless info-mediaries', 'Digitized national success for repurpose magnetic niches', 'Distributed bandwidth-monitored interface for engineer e-business experiences', 'Right-sized executive software for syndicate next-generation e-services', 'Profit-focused multi-state database for architect B2C platforms', 'Polarized zero tolerance ability for syndicate open-source functionalities', 'Implemented client-server function for deploy web-enabled metrics', 'Operative multi-state infrastructure for enhance clicks-and-mortar solutions', 'Object-based multi-state Local Area Network for redefine B2C web-readiness', 'Digitized hybrid pricing structure for brand revolutionary synergies', 'Progressive fault-tolerant knowledgebase for incentivize sexy initiatives', 'Team-oriented upward-trending focus group for redefine synergistic users', 'Customizable user-facing solution for harness scalable e-services', 'Object-based asynchronous ability for innovate B2B mindshare', 'Synchronized responsive secured line for scale real-time vortals', 'Customizable local productivity for optimize open-source e-services', 'Automated systematic hierarchy for iterate end-to-end models', 'Devolved empowering complexity for transition virtual metrics', 'Seamless interactive concept for aggregate killer e-markets', 'Horizontal mobile utilization for facilitate back-end models', 'Organic real-time customer loyalty for leverage cutting-edge e-markets', 'Inverse encompassing project for reinvent transparent applications', 'Innovative scalable artificial intelligence for orchestrate virtual models', 'Adaptive value-added framework for scale cross-platform bandwidth', 'Reduced didactic interface for grow next-generation e-business', 'Multi-channeled modular Graphical User Interface for embrace killer convergence', 'Synchronized grid-enabled project for empower visionary eyeballs', 'Programmable asymmetric open system for deploy interactive users', 'Realigned static support for mesh e-business solutions', 'Programmable modular customer loyalty for benchmark enterprise e-business', 'Upgradable hybrid knowledgebase for unleash frictionless web services', 'Synergistic methodical superstructure for syndicate B2B e-business', 'Advanced 3rdgeneration benchmark for drive real-time interfaces', 'Profit-focused fresh-thinking open system for drive open-source content', 'Cross-group scalable customer loyalty for incentivize web-enabled action-items', 'Front-line high-level toolset for leverage seamless portals', 'Diverse intermediate Graphic Interface for synergize bricks-and-clicks communities', 'Organized zero administration concept for re-contextualize back-end e-tailers', 'Synergistic asymmetric standardization for scale enterprise schemas', 'Stand-alone grid-enabled encoding for expedite one-to-one networks', 'Universal high-level utilization for embrace frictionless mindshare', 'Profit-focused dynamic knowledgebase for enhance cross-platform systems', 'User-friendly analyzing product for disintermediate end-to-end architectures', 'Stand-alone bandwidth-monitored budgetary management for enhance intuitive e-services', 'Public-key bottom-line firmware for evolve proactive methodologies', 'Realigned bi-directional process improvement for extend integrated e-markets', 'Switchable optimizing policy for reinvent wireless metrics', 'Optional homogeneous portal for harness 24/7 web-readiness', 'Up-sized global conglomeration for harness strategic deliverables', 'Multi-channeled bandwidth-monitored portal for evolve out-of-the-box content', 'Grass-roots intermediate benchmark for unleash out-of-the-box relationships', 'Programmable clear-thinking strategy for re-intermediate collaborative e-markets', 'Assimilated interactive synergy for evolve bricks-and-clicks architectures', 'Self-enabling encompassing orchestration for facilitate e-business functionalities', 'Synchronized background service-desk for syndicate real-time e-markets', 'Up-sized multimedia adapter for integrate rich experiences', 'Horizontal value-added protocol for engage mission-critical technologies', 'Multi-lateral dynamic focus group for facilitate mission-critical functionalities', 'Focused asynchronous encryption for e-enable plug-and-play web services', 'Proactive regional open system for streamline distributed users', 'Function-based global secured line for implement robust interfaces;']\n"
     ]
    }
   ],
   "source": [
    "#Combo1 = df_all.split(';',300)\n",
    "#print(Combo1)\n",
    "#Name_cols = Combo1[0::2]\n",
    "Purpose_cols = Combo1[1::2]\n",
    "print(Purpose_cols)"
   ]
  },
  {
   "cell_type": "code",
   "execution_count": 30,
   "metadata": {},
   "outputs": [
    {
     "name": "stdout",
     "output_type": "stream",
     "text": [
      "100\n"
     ]
    }
   ],
   "source": [
    "print(len(Purpose_cols))"
   ]
  },
  {
   "cell_type": "code",
   "execution_count": 31,
   "metadata": {},
   "outputs": [
    {
     "data": {
      "text/plain": [
       "list"
      ]
     },
     "execution_count": 31,
     "metadata": {},
     "output_type": "execute_result"
    }
   ],
   "source": [
    "type(Purpose_cols)"
   ]
  },
  {
   "cell_type": "code",
   "execution_count": 32,
   "metadata": {},
   "outputs": [
    {
     "name": "stdout",
     "output_type": "stream",
     "text": [
      "Universal mission-critical leverage for benchmark end-to-end interfaces; Enterprise-wide solution-oriented workforce for matrix innovative relationships; Cross-group zero-defect methodology for aggregate e-business interfaces; Team-oriented 24hour emulation for deploy best-of-breed channels; Exclusive optimizing budgetary management for architect out-of-the-box deliverables; Seamless user-facing archive for unleash ubiquitous e-commerce; Team-oriented interactive solution for synthesize viral niches; Fully-configurable 4thgeneration throughput for synthesize customized info-mediaries; Ergonomic even-keeled circuit for grow sexy synergies; Cross-platform optimal firmware for revolutionize best-of-breed experiences; De-engineered multimedia installation for streamline bleeding-edge ROI; Optimized uniform model for iterate virtual infrastructures; Ameliorated encompassing software for productize out-of-the-box communities; Enterprise-wide 24hour infrastructure for matrix cross-platform bandwidth; Diverse zero-defect solution for morph out-of-the-box e-markets; Reverse-engineered multimedia synergy for matrix impactful portals; Diverse 3rdgeneration standardization for utilize holistic infrastructures; Ameliorated bi-directional framework for e-enable cross-media networks; Networked value-added migration for utilize end-to-end metrics; Phased logistical productivity for embrace virtual eyeballs; Innovative client-server ability for e-enable visionary e-tailers; Total human-resource Graphical User Interface for scale integrated e-tailers; Up-sized real-time analyzer for leverage real-time portals; Mandatory 5thgeneration structure for synergize integrated experiences; Expanded didactic projection for benchmark global e-tailers; Reactive exuding conglomeration for enable sticky technologies; Re-contextualized human-resource solution for generate interactive markets; Business-focused value-added projection for reinvent efficient channels; Integrated global info-mediaries for strategize frictionless interfaces; User-friendly grid-enabled capability for visualize web-enabled web services; Expanded tangible support for unleash collaborative solutions; Multi-lateral discrete pricing structure for maximize B2B portals; Intuitive fresh-thinking algorithm for generate user-centric e-tailers; Realigned multimedia infrastructure for benchmark end-to-end metrics; Automated non-volatile initiative for brand extensible channels; Total 4thgeneration adapter for benchmark end-to-end mindshare; Organized zero tolerance contingency for syndicate dot-com functionalities; Distributed actuating instruction set for harness enterprise experiences; Object-based empowering algorithm for matrix end-to-end vortals; Assimilated local definition for drive seamless info-mediaries; Digitized national success for repurpose magnetic niches; Distributed bandwidth-monitored interface for engineer e-business experiences; Right-sized executive software for syndicate next-generation e-services; Profit-focused multi-state database for architect B2C platforms; Polarized zero tolerance ability for syndicate open-source functionalities; Implemented client-server function for deploy web-enabled metrics; Operative multi-state infrastructure for enhance clicks-and-mortar solutions; Object-based multi-state Local Area Network for redefine B2C web-readiness; Digitized hybrid pricing structure for brand revolutionary synergies; Progressive fault-tolerant knowledgebase for incentivize sexy initiatives; Team-oriented upward-trending focus group for redefine synergistic users; Customizable user-facing solution for harness scalable e-services; Object-based asynchronous ability for innovate B2B mindshare; Synchronized responsive secured line for scale real-time vortals; Customizable local productivity for optimize open-source e-services; Automated systematic hierarchy for iterate end-to-end models; Devolved empowering complexity for transition virtual metrics; Seamless interactive concept for aggregate killer e-markets; Horizontal mobile utilization for facilitate back-end models; Organic real-time customer loyalty for leverage cutting-edge e-markets; Inverse encompassing project for reinvent transparent applications; Innovative scalable artificial intelligence for orchestrate virtual models; Adaptive value-added framework for scale cross-platform bandwidth; Reduced didactic interface for grow next-generation e-business; Multi-channeled modular Graphical User Interface for embrace killer convergence; Synchronized grid-enabled project for empower visionary eyeballs; Programmable asymmetric open system for deploy interactive users; Realigned static support for mesh e-business solutions; Programmable modular customer loyalty for benchmark enterprise e-business; Upgradable hybrid knowledgebase for unleash frictionless web services; Synergistic methodical superstructure for syndicate B2B e-business; Advanced 3rdgeneration benchmark for drive real-time interfaces; Profit-focused fresh-thinking open system for drive open-source content; Cross-group scalable customer loyalty for incentivize web-enabled action-items; Front-line high-level toolset for leverage seamless portals; Diverse intermediate Graphic Interface for synergize bricks-and-clicks communities; Organized zero administration concept for re-contextualize back-end e-tailers; Synergistic asymmetric standardization for scale enterprise schemas; Stand-alone grid-enabled encoding for expedite one-to-one networks; Universal high-level utilization for embrace frictionless mindshare; Profit-focused dynamic knowledgebase for enhance cross-platform systems; User-friendly analyzing product for disintermediate end-to-end architectures; Stand-alone bandwidth-monitored budgetary management for enhance intuitive e-services; Public-key bottom-line firmware for evolve proactive methodologies; Realigned bi-directional process improvement for extend integrated e-markets; Switchable optimizing policy for reinvent wireless metrics; Optional homogeneous portal for harness 24/7 web-readiness; Up-sized global conglomeration for harness strategic deliverables; Multi-channeled bandwidth-monitored portal for evolve out-of-the-box content; Grass-roots intermediate benchmark for unleash out-of-the-box relationships; Programmable clear-thinking strategy for re-intermediate collaborative e-markets; Assimilated interactive synergy for evolve bricks-and-clicks architectures; Self-enabling encompassing orchestration for facilitate e-business functionalities; Synchronized background service-desk for syndicate real-time e-markets; Up-sized multimedia adapter for integrate rich experiences; Horizontal value-added protocol for engage mission-critical technologies; Multi-lateral dynamic focus group for facilitate mission-critical functionalities; Focused asynchronous encryption for e-enable plug-and-play web services; Proactive regional open system for streamline distributed users; Function-based global secured line for implement robust interfaces;; \n"
     ]
    }
   ],
   "source": [
    "def listToString(Purpose_cols):\n",
    "    purpose_string = \"\"\n",
    "    for element in Purpose_cols:\n",
    "        purpose_string += element + \"; \"\n",
    "    return purpose_string\n",
    "\n",
    "print(listToString(Purpose_cols))"
   ]
  },
  {
   "cell_type": "code",
   "execution_count": 33,
   "metadata": {},
   "outputs": [],
   "source": [
    "b = listToString(Purpose_cols)\n",
    "from textblob import TextBlob\n",
    "s = \"\"\n",
    "blob = TextBlob(b)\n",
    "for sentence in blob.sentences:\n",
    "        s += str(sentence.sentiment.polarity) + \"; \"\n",
    "\n",
    "\n",
    "s = s[:-2]\n",
    "s = s.split(';',)"
   ]
  },
  {
   "cell_type": "code",
   "execution_count": 34,
   "metadata": {},
   "outputs": [
    {
     "name": "stdout",
     "output_type": "stream",
     "text": [
      "['0.08712121212121213']\n"
     ]
    }
   ],
   "source": [
    "print(s)"
   ]
  },
  {
   "cell_type": "code",
   "execution_count": 35,
   "metadata": {},
   "outputs": [
    {
     "name": "stdout",
     "output_type": "stream",
     "text": [
      "0.08712121212121213\n"
     ]
    }
   ],
   "source": [
    "for sentence in blob.sentences:\n",
    "    print(sentence.sentiment.polarity)"
   ]
  },
  {
   "cell_type": "code",
   "execution_count": 36,
   "metadata": {},
   "outputs": [],
   "source": [
    "top10 = sorted(range(len(s)), key=lambda i: s[i], reverse=True)[0:9]"
   ]
  },
  {
   "cell_type": "code",
   "execution_count": 37,
   "metadata": {},
   "outputs": [
    {
     "name": "stdout",
     "output_type": "stream",
     "text": [
      "<class 'list'>\n"
     ]
    }
   ],
   "source": [
    "print(type(top10))"
   ]
  },
  {
   "cell_type": "code",
   "execution_count": 38,
   "metadata": {},
   "outputs": [
    {
     "name": "stdout",
     "output_type": "stream",
     "text": [
      "['0.08712121212121213']\n"
     ]
    }
   ],
   "source": [
    "print(s)"
   ]
  },
  {
   "cell_type": "code",
   "execution_count": 39,
   "metadata": {},
   "outputs": [
    {
     "data": {
      "text/plain": [
       "[0]"
      ]
     },
     "execution_count": 39,
     "metadata": {},
     "output_type": "execute_result"
    }
   ],
   "source": [
    "top10"
   ]
  },
  {
   "cell_type": "code",
   "execution_count": null,
   "metadata": {},
   "outputs": [],
   "source": []
  }
 ],
 "metadata": {
  "kernelspec": {
   "display_name": "Python 3",
   "language": "python",
   "name": "python3"
  },
  "language_info": {
   "codemirror_mode": {
    "name": "ipython",
    "version": 3
   },
   "file_extension": ".py",
   "mimetype": "text/x-python",
   "name": "python",
   "nbconvert_exporter": "python",
   "pygments_lexer": "ipython3",
   "version": "3.7.3"
  }
 },
 "nbformat": 4,
 "nbformat_minor": 2
}
